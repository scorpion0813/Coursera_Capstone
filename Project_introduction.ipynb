{
 "cells": [
  {
   "cell_type": "markdown",
   "metadata": {},
   "source": [
    "# Introduction"
   ]
  },
  {
   "cell_type": "markdown",
   "metadata": {},
   "source": [
    "A group of Coffee Growers, in the department of Nariño**(Note 1) is interested in establishing a specialized coffee shop in Bogota City. They do not produce big quantities of coffee but to offer a great experience around the excelso coffee, taking advantage of its special sensorial attributes (Note 2).\n",
    "\n",
    "They want to know where is the best suitable location for the coffee shop in Bogotá city, It is required to find a place for coffee lovers\n",
    "\n",
    "Note 1: Nariño is a department of Colombia located in the west of the country, bordering Ecuador and the Pacific Ocean, please refer to: https://en.wikipedia.org/wiki/Nariño_Department)\n",
    "\n",
    "Note 2: A description of sensorial attributes of Café de Nariño http://narino.cafedecolombia.com/en/narino/el_cafe_de_narino/por_que_es_diferente/"
   ]
  }
 ],
 "metadata": {
  "kernelspec": {
   "display_name": "Python 3",
   "language": "python",
   "name": "python3"
  },
  "language_info": {
   "codemirror_mode": {
    "name": "ipython",
    "version": 3
   },
   "file_extension": ".py",
   "mimetype": "text/x-python",
   "name": "python",
   "nbconvert_exporter": "python",
   "pygments_lexer": "ipython3",
   "version": "3.7.2"
  }
 },
 "nbformat": 4,
 "nbformat_minor": 2
}
