{
 "cells": [
  {
   "cell_type": "code",
   "execution_count": 2,
   "metadata": {},
   "outputs": [],
   "source": [
    "# Importing required libraries\n",
    "import numpy as np\n",
    "import pandas as pd\n",
    "import requests\n",
    "from bs4 import BeautifulSoup"
   ]
  },
  {
   "cell_type": "markdown",
   "metadata": {},
   "source": [
    "# Getting data from wikipedia\n",
    "* Requests library will be used"
   ]
  },
  {
   "cell_type": "code",
   "execution_count": 4,
   "metadata": {},
   "outputs": [
    {
     "name": "stdout",
     "output_type": "stream",
     "text": [
      "  PostalCode       Borough      Neighborhood\n",
      "0       None          None              None\n",
      "1        M1A  Not assigned      Not assigned\n",
      "2        M2A  Not assigned      Not assigned\n",
      "3        M3A    North York         Parkwoods\n",
      "4        M4A    North York  Victoria Village\n"
     ]
    }
   ],
   "source": [
    "postal_page = requests.get('https://en.wikipedia.org/wiki/List_of_postal_codes_of_Canada:_M')\n",
    "soup = BeautifulSoup(postal_page.text, 'html.parser')\n",
    "\n",
    "table_data = []\n",
    "table = soup.find_all('table')[0]\n",
    "table_body = table.find('tbody')\n",
    "rows = table_body.find_all('tr')\n",
    "\n",
    "for row in rows:\n",
    "    cols = [col.text.strip() for col in row.find_all('td')]\n",
    "    table_data.append(cols)\n",
    "\n",
    "postal_df = pd.DataFrame(table_data, columns=['PostalCode','Borough','Neighborhood'])\n",
    "print(postal_df.head())"
   ]
  },
  {
   "cell_type": "markdown",
   "metadata": {},
   "source": [
    "# Cleaning and processing dataframe"
   ]
  },
  {
   "cell_type": "code",
   "execution_count": 7,
   "metadata": {},
   "outputs": [
    {
     "name": "stdout",
     "output_type": "stream",
     "text": [
      "  PostalCode      Borough                          Neighborhood\n",
      "0        M1B  Scarborough                         Rouge,Malvern\n",
      "1        M1C  Scarborough  Highland Creek,Rouge Hill,Port Union\n",
      "2        M1E  Scarborough       Guildwood,Morningside,West Hill\n",
      "3        M1G  Scarborough                                Woburn\n",
      "4        M1H  Scarborough                             Cedarbrae\n",
      "(103, 3)\n"
     ]
    }
   ],
   "source": [
    "# Dropping empty cells using \"PostalCode\"\n",
    "postal_df = postal_df.dropna(subset=['PostalCode'])\n",
    "\n",
    "# Ignoring cells with a borough that is Not assigned.\n",
    "postal_df = postal_df[~postal_df['Borough'].str.contains('Not assigned')]\n",
    "\n",
    "# Grouping the Neighborhoods into one row\n",
    "postal_df = postal_df.groupby(['PostalCode','Borough'])['Neighborhood'].apply(','.join).reset_index()\n",
    "\n",
    "# Assigning borough as neighborhood, if a cell has a borough but a Not assigned neighborhood\n",
    "postal_df['Neighborhood'] = np.where(postal_df['Neighborhood'].str.contains('Not assigned'), postal_df['Borough'], postal_df['Neighborhood'])\n",
    "\n",
    "print(postal_df.head())\n",
    "print(postal_df.shape)\n"
   ]
  },
  {
   "cell_type": "code",
   "execution_count": null,
   "metadata": {},
   "outputs": [],
   "source": []
  }
 ],
 "metadata": {
  "kernelspec": {
   "display_name": "Python 3",
   "language": "python",
   "name": "python3"
  },
  "language_info": {
   "codemirror_mode": {
    "name": "ipython",
    "version": 3
   },
   "file_extension": ".py",
   "mimetype": "text/x-python",
   "name": "python",
   "nbconvert_exporter": "python",
   "pygments_lexer": "ipython3",
   "version": "3.7.2"
  }
 },
 "nbformat": 4,
 "nbformat_minor": 2
}
