{
 "cells": [
  {
   "cell_type": "code",
   "execution_count": 2,
   "metadata": {},
   "outputs": [],
   "source": [
    "# Importing required libraries\n",
    "import numpy as np\n",
    "import pandas as pd\n",
    "import requests\n",
    "from bs4 import BeautifulSoup"
   ]
  },
  {
   "cell_type": "markdown",
   "metadata": {},
   "source": [
    "# Getting data from wikipedia\n",
    "* Requests library will be used"
   ]
  },
  {
   "cell_type": "code",
   "execution_count": 3,
   "metadata": {},
   "outputs": [
    {
     "name": "stdout",
     "output_type": "stream",
     "text": [
      "  PostalCode       Borough      Neighborhood\n",
      "0       None          None              None\n",
      "1        M1A  Not assigned      Not assigned\n",
      "2        M2A  Not assigned      Not assigned\n",
      "3        M3A    North York         Parkwoods\n",
      "4        M4A    North York  Victoria Village\n"
     ]
    }
   ],
   "source": [
    "postal_page = requests.get('https://en.wikipedia.org/wiki/List_of_postal_codes_of_Canada:_M')\n",
    "soup = BeautifulSoup(postal_page.text, 'html.parser')\n",
    "\n",
    "table_data = []\n",
    "table = soup.find_all('table')[0]\n",
    "table_body = table.find('tbody')\n",
    "rows = table_body.find_all('tr')\n",
    "\n",
    "for row in rows:\n",
    "    cols = [col.text.strip() for col in row.find_all('td')]\n",
    "    table_data.append(cols)\n",
    "\n",
    "postal_df = pd.DataFrame(table_data, columns=['PostalCode','Borough','Neighborhood'])\n",
    "print(postal_df.head())"
   ]
  },
  {
   "cell_type": "markdown",
   "metadata": {},
   "source": [
    "# Cleaning and processing dataframe"
   ]
  },
  {
   "cell_type": "code",
   "execution_count": 11,
   "metadata": {},
   "outputs": [
    {
     "name": "stdout",
     "output_type": "stream",
     "text": [
      "  PostalCode      Borough                          Neighborhood\n",
      "0        M1B  Scarborough                         Rouge,Malvern\n",
      "1        M1C  Scarborough  Highland Creek,Rouge Hill,Port Union\n",
      "2        M1E  Scarborough       Guildwood,Morningside,West Hill\n",
      "3        M1G  Scarborough                                Woburn\n",
      "4        M1H  Scarborough                             Cedarbrae\n",
      "(103, 3)\n"
     ]
    }
   ],
   "source": [
    "# Dropping empty cells using \"PostalCode\"\n",
    "postal_df = postal_df.dropna(subset=['PostalCode'])\n",
    "\n",
    "# Ignoring cells with a borough that is Not assigned.\n",
    "postal_df = postal_df[~postal_df['Borough'].str.contains('Not assigned')]\n",
    "\n",
    "# Grouping the Neighborhoods into one row\n",
    "postal_df = postal_df.groupby(['PostalCode','Borough'])['Neighborhood'].apply(','.join).reset_index()\n",
    "\n",
    "# Assigning borough as neighborhood, if a cell has a borough but a Not assigned neighborhood\n",
    "postal_df['Neighborhood'] = np.where(postal_df['Neighborhood'].str.contains('Not assigned'), postal_df['Borough'], postal_df['Neighborhood'])\n",
    "\n",
    "print(postal_df.head())\n",
    "print(postal_df.shape)\n"
   ]
  },
  {
   "cell_type": "markdown",
   "metadata": {},
   "source": [
    "# Adding Geospatial coordinates"
   ]
  },
  {
   "cell_type": "code",
   "execution_count": 14,
   "metadata": {},
   "outputs": [
    {
     "name": "stdout",
     "output_type": "stream",
     "text": [
      "  PostalCode   Latitude  Longitude\n",
      "0        M1B  43.806686 -79.194353\n",
      "1        M1C  43.784535 -79.160497\n",
      "2        M1E  43.763573 -79.188711\n",
      "3        M1G  43.770992 -79.216917\n",
      "4        M1H  43.773136 -79.239476\n"
     ]
    }
   ],
   "source": [
    "geo_df = pd.read_csv('Geospatial_Coordinates.csv')\n",
    "geo_df = geo_df.rename(columns={'Postal Code': 'PostalCode'})\n",
    "print(geo_df.head())"
   ]
  },
  {
   "cell_type": "code",
   "execution_count": 15,
   "metadata": {},
   "outputs": [
    {
     "name": "stdout",
     "output_type": "stream",
     "text": [
      "  PostalCode      Borough                          Neighborhood   Latitude  \\\n",
      "0        M1B  Scarborough                         Rouge,Malvern  43.806686   \n",
      "1        M1C  Scarborough  Highland Creek,Rouge Hill,Port Union  43.784535   \n",
      "2        M1E  Scarborough       Guildwood,Morningside,West Hill  43.763573   \n",
      "3        M1G  Scarborough                                Woburn  43.770992   \n",
      "4        M1H  Scarborough                             Cedarbrae  43.773136   \n",
      "\n",
      "   Longitude  \n",
      "0 -79.194353  \n",
      "1 -79.160497  \n",
      "2 -79.188711  \n",
      "3 -79.216917  \n",
      "4 -79.239476  \n"
     ]
    }
   ],
   "source": [
    "# Merging postal data and geospatial coordinates \n",
    "\n",
    "toronto_df = postal_df.merge(geo_df, on='PostalCode', how='left')\n",
    "\n",
    "print(toronto_df.head())"
   ]
  },
  {
   "cell_type": "code",
   "execution_count": null,
   "metadata": {},
   "outputs": [],
   "source": []
  }
 ],
 "metadata": {
  "kernelspec": {
   "display_name": "Python 3",
   "language": "python",
   "name": "python3"
  },
  "language_info": {
   "codemirror_mode": {
    "name": "ipython",
    "version": 3
   },
   "file_extension": ".py",
   "mimetype": "text/x-python",
   "name": "python",
   "nbconvert_exporter": "python",
   "pygments_lexer": "ipython3",
   "version": "3.7.2"
  }
 },
 "nbformat": 4,
 "nbformat_minor": 2
}
